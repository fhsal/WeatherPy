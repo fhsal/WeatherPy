{
 "cells": [
  {
   "cell_type": "markdown",
   "metadata": {},
   "source": [
    "## Deliverable 3. Create a Travel Itinerary Map."
   ]
  },
  {
   "cell_type": "code",
   "execution_count": 1,
   "metadata": {},
   "outputs": [],
   "source": [
    "# Dependencies and Setup\n",
    "import pandas as pd\n",
    "import requests\n",
    "import gmaps\n",
    "\n",
    "# Import API key\n",
    "from config import g_key\n",
    "\n",
    "# Configure gmaps\n",
    "gmaps.configure(api_key=g_key)"
   ]
  },
  {
   "cell_type": "code",
   "execution_count": 2,
   "metadata": {},
   "outputs": [
    {
     "data": {
      "text/html": [
       "<div>\n",
       "<style scoped>\n",
       "    .dataframe tbody tr th:only-of-type {\n",
       "        vertical-align: middle;\n",
       "    }\n",
       "\n",
       "    .dataframe tbody tr th {\n",
       "        vertical-align: top;\n",
       "    }\n",
       "\n",
       "    .dataframe thead th {\n",
       "        text-align: right;\n",
       "    }\n",
       "</style>\n",
       "<table border=\"1\" class=\"dataframe\">\n",
       "  <thead>\n",
       "    <tr style=\"text-align: right;\">\n",
       "      <th></th>\n",
       "      <th>City_ID</th>\n",
       "      <th>City</th>\n",
       "      <th>Country</th>\n",
       "      <th>Max Temp</th>\n",
       "      <th>Description</th>\n",
       "      <th>Lat</th>\n",
       "      <th>Lng</th>\n",
       "      <th>Hotel Name</th>\n",
       "    </tr>\n",
       "  </thead>\n",
       "  <tbody>\n",
       "    <tr>\n",
       "      <th>0</th>\n",
       "      <td>1</td>\n",
       "      <td>Phan Thiet</td>\n",
       "      <td>VN</td>\n",
       "      <td>83.23</td>\n",
       "      <td>scattered clouds</td>\n",
       "      <td>10.9333</td>\n",
       "      <td>108.1000</td>\n",
       "      <td>Hotel Saigon-PT</td>\n",
       "    </tr>\n",
       "    <tr>\n",
       "      <th>1</th>\n",
       "      <td>2</td>\n",
       "      <td>San-Pedro</td>\n",
       "      <td>CI</td>\n",
       "      <td>73.40</td>\n",
       "      <td>few clouds</td>\n",
       "      <td>4.7485</td>\n",
       "      <td>-6.6363</td>\n",
       "      <td>Hotel Maria</td>\n",
       "    </tr>\n",
       "    <tr>\n",
       "      <th>2</th>\n",
       "      <td>3</td>\n",
       "      <td>Lompoc</td>\n",
       "      <td>US</td>\n",
       "      <td>83.70</td>\n",
       "      <td>clear sky</td>\n",
       "      <td>34.6391</td>\n",
       "      <td>-120.4579</td>\n",
       "      <td>Holiday Inn Express Lompoc, an IHG Hotel</td>\n",
       "    </tr>\n",
       "    <tr>\n",
       "      <th>3</th>\n",
       "      <td>4</td>\n",
       "      <td>Carnarvon</td>\n",
       "      <td>AU</td>\n",
       "      <td>70.95</td>\n",
       "      <td>overcast clouds</td>\n",
       "      <td>-24.8667</td>\n",
       "      <td>113.6333</td>\n",
       "      <td>Hospitality Carnarvon</td>\n",
       "    </tr>\n",
       "    <tr>\n",
       "      <th>4</th>\n",
       "      <td>5</td>\n",
       "      <td>Butaritari</td>\n",
       "      <td>KI</td>\n",
       "      <td>82.06</td>\n",
       "      <td>overcast clouds</td>\n",
       "      <td>3.0707</td>\n",
       "      <td>172.7902</td>\n",
       "      <td>Isles Sunset Lodge</td>\n",
       "    </tr>\n",
       "  </tbody>\n",
       "</table>\n",
       "</div>"
      ],
      "text/plain": [
       "   City_ID        City Country  Max Temp       Description      Lat       Lng  \\\n",
       "0        1  Phan Thiet      VN     83.23  scattered clouds  10.9333  108.1000   \n",
       "1        2   San-Pedro      CI     73.40        few clouds   4.7485   -6.6363   \n",
       "2        3      Lompoc      US     83.70         clear sky  34.6391 -120.4579   \n",
       "3        4   Carnarvon      AU     70.95   overcast clouds -24.8667  113.6333   \n",
       "4        5  Butaritari      KI     82.06   overcast clouds   3.0707  172.7902   \n",
       "\n",
       "                                 Hotel Name  \n",
       "0                           Hotel Saigon-PT  \n",
       "1                               Hotel Maria  \n",
       "2  Holiday Inn Express Lompoc, an IHG Hotel  \n",
       "3                     Hospitality Carnarvon  \n",
       "4                        Isles Sunset Lodge  "
      ]
     },
     "execution_count": 2,
     "metadata": {},
     "output_type": "execute_result"
    }
   ],
   "source": [
    "# 1. Read the WeatherPy_vacation.csv into a DataFrame.\n",
    "vacation_df = pd.read_csv(\"../Vacation_Search/WeatherPy_vacation.csv\")\n",
    "vacation_df.head()"
   ]
  },
  {
   "cell_type": "code",
   "execution_count": 3,
   "metadata": {},
   "outputs": [
    {
     "data": {
      "text/html": [
       "<div>\n",
       "<style scoped>\n",
       "    .dataframe tbody tr th:only-of-type {\n",
       "        vertical-align: middle;\n",
       "    }\n",
       "\n",
       "    .dataframe tbody tr th {\n",
       "        vertical-align: top;\n",
       "    }\n",
       "\n",
       "    .dataframe thead th {\n",
       "        text-align: right;\n",
       "    }\n",
       "</style>\n",
       "<table border=\"1\" class=\"dataframe\">\n",
       "  <thead>\n",
       "    <tr style=\"text-align: right;\">\n",
       "      <th></th>\n",
       "      <th>City_ID</th>\n",
       "      <th>City</th>\n",
       "      <th>Country</th>\n",
       "      <th>Max Temp</th>\n",
       "      <th>Description</th>\n",
       "      <th>Lat</th>\n",
       "      <th>Lng</th>\n",
       "      <th>Hotel Name</th>\n",
       "    </tr>\n",
       "  </thead>\n",
       "  <tbody>\n",
       "    <tr>\n",
       "      <th>0</th>\n",
       "      <td>1</td>\n",
       "      <td>Phan Thiet</td>\n",
       "      <td>VN</td>\n",
       "      <td>83.23</td>\n",
       "      <td>scattered clouds</td>\n",
       "      <td>10.9333</td>\n",
       "      <td>108.1000</td>\n",
       "      <td>Hotel Saigon-PT</td>\n",
       "    </tr>\n",
       "    <tr>\n",
       "      <th>1</th>\n",
       "      <td>2</td>\n",
       "      <td>San-Pedro</td>\n",
       "      <td>CI</td>\n",
       "      <td>73.40</td>\n",
       "      <td>few clouds</td>\n",
       "      <td>4.7485</td>\n",
       "      <td>-6.6363</td>\n",
       "      <td>Hotel Maria</td>\n",
       "    </tr>\n",
       "    <tr>\n",
       "      <th>2</th>\n",
       "      <td>3</td>\n",
       "      <td>Lompoc</td>\n",
       "      <td>US</td>\n",
       "      <td>83.70</td>\n",
       "      <td>clear sky</td>\n",
       "      <td>34.6391</td>\n",
       "      <td>-120.4579</td>\n",
       "      <td>Holiday Inn Express Lompoc, an IHG Hotel</td>\n",
       "    </tr>\n",
       "    <tr>\n",
       "      <th>3</th>\n",
       "      <td>4</td>\n",
       "      <td>Carnarvon</td>\n",
       "      <td>AU</td>\n",
       "      <td>70.95</td>\n",
       "      <td>overcast clouds</td>\n",
       "      <td>-24.8667</td>\n",
       "      <td>113.6333</td>\n",
       "      <td>Hospitality Carnarvon</td>\n",
       "    </tr>\n",
       "    <tr>\n",
       "      <th>4</th>\n",
       "      <td>5</td>\n",
       "      <td>Butaritari</td>\n",
       "      <td>KI</td>\n",
       "      <td>82.06</td>\n",
       "      <td>overcast clouds</td>\n",
       "      <td>3.0707</td>\n",
       "      <td>172.7902</td>\n",
       "      <td>Isles Sunset Lodge</td>\n",
       "    </tr>\n",
       "  </tbody>\n",
       "</table>\n",
       "</div>"
      ],
      "text/plain": [
       "   City_ID        City Country  Max Temp       Description      Lat       Lng  \\\n",
       "0        1  Phan Thiet      VN     83.23  scattered clouds  10.9333  108.1000   \n",
       "1        2   San-Pedro      CI     73.40        few clouds   4.7485   -6.6363   \n",
       "2        3      Lompoc      US     83.70         clear sky  34.6391 -120.4579   \n",
       "3        4   Carnarvon      AU     70.95   overcast clouds -24.8667  113.6333   \n",
       "4        5  Butaritari      KI     82.06   overcast clouds   3.0707  172.7902   \n",
       "\n",
       "                                 Hotel Name  \n",
       "0                           Hotel Saigon-PT  \n",
       "1                               Hotel Maria  \n",
       "2  Holiday Inn Express Lompoc, an IHG Hotel  \n",
       "3                     Hospitality Carnarvon  \n",
       "4                        Isles Sunset Lodge  "
      ]
     },
     "execution_count": 3,
     "metadata": {},
     "output_type": "execute_result"
    }
   ],
   "source": [
    "clean_hotel_df = pd.read_csv(\"../Vacation_Search/WeatherPy_vacation.csv\")\n",
    "clean_hotel_df.head()"
   ]
  },
  {
   "cell_type": "code",
   "execution_count": 4,
   "metadata": {},
   "outputs": [],
   "source": [
    "# 2. Using the template add the city name, the country code, the weather description and maximum temperature for the city.\n",
    "info_box_template = \"\"\"\n",
    "<dl>\n",
    "<dt>Hotel Name</dt><dd>{Hotel Name}</dd>\n",
    "<dt>City</dt><dd>{City}</dd>\n",
    "<dt>Country</dt><dd>{Country}</dd>\n",
    "<dt>Max Temp</dt><dd>{Max Temp} °F</dd>\n",
    "<dt>Outlook</dt><dd>{Description}</dd>\n",
    "</dl>\n",
    "\"\"\"\n",
    "\n",
    "# 3a. Get the data from each row and add it to the formatting template and store the data in a list.\n",
    "hotel_info = [info_box_template.format(**row) for index, row in vacation_df.iterrows()]\n",
    "\n",
    "# 3b. Get the latitude and longitude from each row and store in a new DataFrame.\n",
    "\n",
    "\n",
    "locations = vacation_df[[\"Lat\", \"Lng\"]]\n"
   ]
  },
  {
   "cell_type": "code",
   "execution_count": 5,
   "metadata": {},
   "outputs": [
    {
     "data": {
      "text/html": [
       "<div>\n",
       "<style scoped>\n",
       "    .dataframe tbody tr th:only-of-type {\n",
       "        vertical-align: middle;\n",
       "    }\n",
       "\n",
       "    .dataframe tbody tr th {\n",
       "        vertical-align: top;\n",
       "    }\n",
       "\n",
       "    .dataframe thead th {\n",
       "        text-align: right;\n",
       "    }\n",
       "</style>\n",
       "<table border=\"1\" class=\"dataframe\">\n",
       "  <thead>\n",
       "    <tr style=\"text-align: right;\">\n",
       "      <th></th>\n",
       "      <th>Lat</th>\n",
       "      <th>Lng</th>\n",
       "    </tr>\n",
       "  </thead>\n",
       "  <tbody>\n",
       "    <tr>\n",
       "      <th>0</th>\n",
       "      <td>10.9333</td>\n",
       "      <td>108.1000</td>\n",
       "    </tr>\n",
       "    <tr>\n",
       "      <th>1</th>\n",
       "      <td>4.7485</td>\n",
       "      <td>-6.6363</td>\n",
       "    </tr>\n",
       "    <tr>\n",
       "      <th>2</th>\n",
       "      <td>34.6391</td>\n",
       "      <td>-120.4579</td>\n",
       "    </tr>\n",
       "    <tr>\n",
       "      <th>3</th>\n",
       "      <td>-24.8667</td>\n",
       "      <td>113.6333</td>\n",
       "    </tr>\n",
       "    <tr>\n",
       "      <th>4</th>\n",
       "      <td>3.0707</td>\n",
       "      <td>172.7902</td>\n",
       "    </tr>\n",
       "    <tr>\n",
       "      <th>...</th>\n",
       "      <td>...</td>\n",
       "      <td>...</td>\n",
       "    </tr>\n",
       "    <tr>\n",
       "      <th>901</th>\n",
       "      <td>19.3832</td>\n",
       "      <td>-69.8474</td>\n",
       "    </tr>\n",
       "    <tr>\n",
       "      <th>902</th>\n",
       "      <td>29.5667</td>\n",
       "      <td>-104.4167</td>\n",
       "    </tr>\n",
       "    <tr>\n",
       "      <th>903</th>\n",
       "      <td>14.9167</td>\n",
       "      <td>79.9833</td>\n",
       "    </tr>\n",
       "    <tr>\n",
       "      <th>904</th>\n",
       "      <td>13.5167</td>\n",
       "      <td>35.7667</td>\n",
       "    </tr>\n",
       "    <tr>\n",
       "      <th>905</th>\n",
       "      <td>16.5000</td>\n",
       "      <td>102.0833</td>\n",
       "    </tr>\n",
       "  </tbody>\n",
       "</table>\n",
       "<p>906 rows × 2 columns</p>\n",
       "</div>"
      ],
      "text/plain": [
       "         Lat       Lng\n",
       "0    10.9333  108.1000\n",
       "1     4.7485   -6.6363\n",
       "2    34.6391 -120.4579\n",
       "3   -24.8667  113.6333\n",
       "4     3.0707  172.7902\n",
       "..       ...       ...\n",
       "901  19.3832  -69.8474\n",
       "902  29.5667 -104.4167\n",
       "903  14.9167   79.9833\n",
       "904  13.5167   35.7667\n",
       "905  16.5000  102.0833\n",
       "\n",
       "[906 rows x 2 columns]"
      ]
     },
     "execution_count": 5,
     "metadata": {},
     "output_type": "execute_result"
    }
   ],
   "source": [
    "locations"
   ]
  },
  {
   "cell_type": "code",
   "execution_count": 6,
   "metadata": {},
   "outputs": [
    {
     "data": {
      "application/vnd.jupyter.widget-view+json": {
       "model_id": "65e8b6c52e294855adaf2ed404f87a2b",
       "version_major": 2,
       "version_minor": 0
      },
      "text/plain": [
       "Figure(layout=FigureLayout(height='420px'))"
      ]
     },
     "metadata": {},
     "output_type": "display_data"
    }
   ],
   "source": [
    "# 4a. Add a marker layer for each city to the map.\n",
    "locations = clean_hotel_df[[\"Lat\", \"Lng\"]]\n",
    "max_temp = clean_hotel_df[\"Max Temp\"]\n",
    "fig = gmaps.figure(center=(30.0, 31.0), zoom_level=1.5)\n",
    "#heat_layer = gmaps.heatmap_layer(locations, weights=max_temp,dissipating=False,\n",
    "#             max_intensity=300, point_radius=4)\n",
    "marker_layer = gmaps.marker_layer(locations, info_box_content=hotel_info)\n",
    "#fig.add_layer(heat_layer)\n",
    "fig.add_layer(marker_layer)\n",
    "\n",
    "# 4b. Display the figure\n",
    "\n",
    "fig"
   ]
  },
  {
   "cell_type": "code",
   "execution_count": 7,
   "metadata": {},
   "outputs": [
    {
     "data": {
      "text/html": [
       "<div>\n",
       "<style scoped>\n",
       "    .dataframe tbody tr th:only-of-type {\n",
       "        vertical-align: middle;\n",
       "    }\n",
       "\n",
       "    .dataframe tbody tr th {\n",
       "        vertical-align: top;\n",
       "    }\n",
       "\n",
       "    .dataframe thead th {\n",
       "        text-align: right;\n",
       "    }\n",
       "</style>\n",
       "<table border=\"1\" class=\"dataframe\">\n",
       "  <thead>\n",
       "    <tr style=\"text-align: right;\">\n",
       "      <th></th>\n",
       "      <th>City_ID</th>\n",
       "      <th>City</th>\n",
       "      <th>Country</th>\n",
       "      <th>Max Temp</th>\n",
       "      <th>Description</th>\n",
       "      <th>Lat</th>\n",
       "      <th>Lng</th>\n",
       "      <th>Hotel Name</th>\n",
       "    </tr>\n",
       "  </thead>\n",
       "  <tbody>\n",
       "    <tr>\n",
       "      <th>258</th>\n",
       "      <td>570</td>\n",
       "      <td>Salinas</td>\n",
       "      <td>US</td>\n",
       "      <td>85.01</td>\n",
       "      <td>scattered clouds</td>\n",
       "      <td>36.6777</td>\n",
       "      <td>-121.6555</td>\n",
       "      <td>Laurel Inn &amp; Conference Center</td>\n",
       "    </tr>\n",
       "  </tbody>\n",
       "</table>\n",
       "</div>"
      ],
      "text/plain": [
       "     City_ID     City Country  Max Temp       Description      Lat       Lng  \\\n",
       "258      570  Salinas      US     85.01  scattered clouds  36.6777 -121.6555   \n",
       "\n",
       "                         Hotel Name  \n",
       "258  Laurel Inn & Conference Center  "
      ]
     },
     "execution_count": 7,
     "metadata": {},
     "output_type": "execute_result"
    }
   ],
   "source": [
    "vacation_start_df = vacation_df.loc[(vacation_df[\"City\"] == \"Salinas\")]\n",
    "vacation_start_df"
   ]
  },
  {
   "cell_type": "code",
   "execution_count": 8,
   "metadata": {},
   "outputs": [
    {
     "data": {
      "text/html": [
       "<div>\n",
       "<style scoped>\n",
       "    .dataframe tbody tr th:only-of-type {\n",
       "        vertical-align: middle;\n",
       "    }\n",
       "\n",
       "    .dataframe tbody tr th {\n",
       "        vertical-align: top;\n",
       "    }\n",
       "\n",
       "    .dataframe thead th {\n",
       "        text-align: right;\n",
       "    }\n",
       "</style>\n",
       "<table border=\"1\" class=\"dataframe\">\n",
       "  <thead>\n",
       "    <tr style=\"text-align: right;\">\n",
       "      <th></th>\n",
       "      <th>City_ID</th>\n",
       "      <th>City</th>\n",
       "      <th>Country</th>\n",
       "      <th>Max Temp</th>\n",
       "      <th>Description</th>\n",
       "      <th>Lat</th>\n",
       "      <th>Lng</th>\n",
       "      <th>Hotel Name</th>\n",
       "    </tr>\n",
       "  </thead>\n",
       "  <tbody>\n",
       "  </tbody>\n",
       "</table>\n",
       "</div>"
      ],
      "text/plain": [
       "Empty DataFrame\n",
       "Columns: [City_ID, City, Country, Max Temp, Description, Lat, Lng, Hotel Name]\n",
       "Index: []"
      ]
     },
     "execution_count": 8,
     "metadata": {},
     "output_type": "execute_result"
    }
   ],
   "source": [
    "vacation_df.loc[(vacation_df[\"City\"] == \"Irvine\")]"
   ]
  },
  {
   "cell_type": "code",
   "execution_count": 9,
   "metadata": {},
   "outputs": [
    {
     "name": "stdout",
     "output_type": "stream",
     "text": [
      "     City_ID     City Country  Max Temp       Description      Lat       Lng  \\\n",
      "258      570  Salinas      US     85.01  scattered clouds  36.6777 -121.6555   \n",
      "\n",
      "                         Hotel Name  \n",
      "258  Laurel Inn & Conference Center  \n",
      "     City_ID     City Country  Max Temp       Description      Lat       Lng  \\\n",
      "258      570  Salinas      US     85.01  scattered clouds  36.6777 -121.6555   \n",
      "\n",
      "                         Hotel Name  \n",
      "258  Laurel Inn & Conference Center  \n",
      "     City_ID      City Country  Max Temp Description      Lat       Lng  \\\n",
      "552     1185  Missoula      US      88.2   clear sky  47.0166 -113.8009   \n",
      "\n",
      "           Hotel Name  \n",
      "552  Gold Creek Cabin  \n",
      "     City_ID       City Country  Max Temp    Description      Lat       Lng  \\\n",
      "815     1748  Englewood      US     73.65  broken clouds  39.6478 -104.9878   \n",
      "\n",
      "                                            Hotel Name  \n",
      "815  InTown Suites Extended Stay Denver CO - Englewood  \n",
      "     City_ID     City Country  Max Temp Description      Lat       Lng  \\\n",
      "829     1779  Astoria      US     72.59   clear sky  46.1879 -123.8313   \n",
      "\n",
      "                              Hotel Name  \n",
      "829  Best Western Astoria Bayfront Hotel  \n"
     ]
    }
   ],
   "source": [
    "# From the map above pick 4 cities and create a vacation itinerary route to travel between the four cities. \n",
    "# 5. Create DataFrames for each city by filtering the 'vacation_df' using the loc method. \n",
    "# Hint: The starting and ending city should be the same city.\n",
    "\n",
    "\n",
    "vacation_start_df = vacation_df.loc[(vacation_df[\"City\"] == \"Salinas\")]\n",
    "vacation_end_df = vacation_df.loc[(vacation_df[\"City\"] == \"Salinas\")]\n",
    "vacation_stop1_df = vacation_df.loc[(vacation_df[\"City\"] == \"Missoula\")]\n",
    "vacation_stop2_df = vacation_df.loc[(vacation_df[\"City\"] == \"Englewood\")] \n",
    "vacation_stop3_df = vacation_df.loc[(vacation_df[\"City\"] == \"Astoria\")] \n",
    "print(vacation_start_df)\n",
    "print(vacation_end_df)\n",
    "print(vacation_stop1_df)\n",
    "print(vacation_stop2_df)\n",
    "print(vacation_stop3_df)"
   ]
  },
  {
   "cell_type": "code",
   "execution_count": 10,
   "metadata": {},
   "outputs": [
    {
     "name": "stdout",
     "output_type": "stream",
     "text": [
      "     City_ID      City Country  Max Temp Description      Lat       Lng  \\\n",
      "552     1185  Missoula      US      88.2   clear sky  47.0166 -113.8009   \n",
      "\n",
      "           Hotel Name  \n",
      "552  Gold Creek Cabin  \n"
     ]
    }
   ],
   "source": [
    "print(vacation_stop1_df)"
   ]
  },
  {
   "cell_type": "code",
   "execution_count": 49,
   "metadata": {},
   "outputs": [
    {
     "data": {
      "text/plain": [
       "array([  36.6777, -121.6555])"
      ]
     },
     "execution_count": 49,
     "metadata": {},
     "output_type": "execute_result"
    }
   ],
   "source": [
    "\n",
    "\n",
    "xx = vacation_start_df[[\"Lat\", \"Lng\"]].to_numpy()[0]\n",
    "xx"
   ]
  },
  {
   "cell_type": "code",
   "execution_count": 11,
   "metadata": {},
   "outputs": [],
   "source": [
    "# 6. Get the latitude-longitude pairs as tuples from each city DataFrame using the to_numpy function and list indexing.\n",
    "start = vacation_start_df[[\"Lat\", \"Lng\"]].to_numpy()[0]\n",
    "end = vacation_end_df[[\"Lat\", \"Lng\"]].to_numpy()[0]\n",
    "stop1 = vacation_stop1_df[[\"Lat\", \"Lng\"]].to_numpy()[0]\n",
    "stop2 = vacation_stop2_df[[\"Lat\", \"Lng\"]].to_numpy()[0]\n",
    "stop3 = vacation_stop3_df[[\"Lat\", \"Lng\"]].to_numpy()[0]"
   ]
  },
  {
   "cell_type": "code",
   "execution_count": 12,
   "metadata": {
    "scrolled": true
   },
   "outputs": [
    {
     "data": {
      "application/vnd.jupyter.widget-view+json": {
       "model_id": "bf203a5528634b1eb2334fbe9c2729a6",
       "version_major": 2,
       "version_minor": 0
      },
      "text/plain": [
       "Figure(layout=FigureLayout(height='420px'))"
      ]
     },
     "metadata": {},
     "output_type": "display_data"
    }
   ],
   "source": [
    "# 7. Create a direction layer map using the start and end latitude-longitude pairs,\n",
    "# and stop1, stop2, and stop3 as the waypoints. The travel_mode should be \"DRIVING\", \"BICYCLING\", or \"WALKING\".\n",
    "import gmaps\n",
    "import gmaps.datasets\n",
    "gmaps.configure(api_key=g_key)\n",
    "\n",
    "\n",
    "fig = gmaps.figure()\n",
    "start2stop1 = gmaps.directions_layer(start, stop1)\n",
    "stop12stop2 = gmaps.directions_layer(stop1, stop2)\n",
    "stop22stop3 = gmaps.directions_layer(stop2, stop3)\n",
    "stop32end = gmaps.directions_layer(stop3, end)\n",
    "\n",
    "\n",
    "fig.add_layer(start2stop1)\n",
    "fig.add_layer(stop12stop2)\n",
    "fig.add_layer(stop22stop3)\n",
    "fig.add_layer(stop32end)\n",
    "\n",
    "fig\n",
    "\n"
   ]
  },
  {
   "cell_type": "code",
   "execution_count": 13,
   "metadata": {},
   "outputs": [
    {
     "data": {
      "text/html": [
       "<div>\n",
       "<style scoped>\n",
       "    .dataframe tbody tr th:only-of-type {\n",
       "        vertical-align: middle;\n",
       "    }\n",
       "\n",
       "    .dataframe tbody tr th {\n",
       "        vertical-align: top;\n",
       "    }\n",
       "\n",
       "    .dataframe thead th {\n",
       "        text-align: right;\n",
       "    }\n",
       "</style>\n",
       "<table border=\"1\" class=\"dataframe\">\n",
       "  <thead>\n",
       "    <tr style=\"text-align: right;\">\n",
       "      <th></th>\n",
       "      <th>City_ID</th>\n",
       "      <th>City</th>\n",
       "      <th>Country</th>\n",
       "      <th>Max Temp</th>\n",
       "      <th>Description</th>\n",
       "      <th>Lat</th>\n",
       "      <th>Lng</th>\n",
       "      <th>Hotel Name</th>\n",
       "    </tr>\n",
       "  </thead>\n",
       "  <tbody>\n",
       "    <tr>\n",
       "      <th>0</th>\n",
       "      <td>570</td>\n",
       "      <td>Salinas</td>\n",
       "      <td>US</td>\n",
       "      <td>85.01</td>\n",
       "      <td>scattered clouds</td>\n",
       "      <td>36.6777</td>\n",
       "      <td>-121.6555</td>\n",
       "      <td>Laurel Inn &amp; Conference Center</td>\n",
       "    </tr>\n",
       "    <tr>\n",
       "      <th>1</th>\n",
       "      <td>1779</td>\n",
       "      <td>Astoria</td>\n",
       "      <td>US</td>\n",
       "      <td>72.59</td>\n",
       "      <td>clear sky</td>\n",
       "      <td>46.1879</td>\n",
       "      <td>-123.8313</td>\n",
       "      <td>Best Western Astoria Bayfront Hotel</td>\n",
       "    </tr>\n",
       "    <tr>\n",
       "      <th>2</th>\n",
       "      <td>1185</td>\n",
       "      <td>Missoula</td>\n",
       "      <td>US</td>\n",
       "      <td>88.20</td>\n",
       "      <td>clear sky</td>\n",
       "      <td>47.0166</td>\n",
       "      <td>-113.8009</td>\n",
       "      <td>Gold Creek Cabin</td>\n",
       "    </tr>\n",
       "    <tr>\n",
       "      <th>3</th>\n",
       "      <td>1748</td>\n",
       "      <td>Englewood</td>\n",
       "      <td>US</td>\n",
       "      <td>73.65</td>\n",
       "      <td>broken clouds</td>\n",
       "      <td>39.6478</td>\n",
       "      <td>-104.9878</td>\n",
       "      <td>InTown Suites Extended Stay Denver CO - Englewood</td>\n",
       "    </tr>\n",
       "    <tr>\n",
       "      <th>4</th>\n",
       "      <td>570</td>\n",
       "      <td>Salinas</td>\n",
       "      <td>US</td>\n",
       "      <td>85.01</td>\n",
       "      <td>scattered clouds</td>\n",
       "      <td>36.6777</td>\n",
       "      <td>-121.6555</td>\n",
       "      <td>Laurel Inn &amp; Conference Center</td>\n",
       "    </tr>\n",
       "  </tbody>\n",
       "</table>\n",
       "</div>"
      ],
      "text/plain": [
       "   City_ID       City Country  Max Temp       Description      Lat       Lng  \\\n",
       "0      570    Salinas      US     85.01  scattered clouds  36.6777 -121.6555   \n",
       "1     1779    Astoria      US     72.59         clear sky  46.1879 -123.8313   \n",
       "2     1185   Missoula      US     88.20         clear sky  47.0166 -113.8009   \n",
       "3     1748  Englewood      US     73.65     broken clouds  39.6478 -104.9878   \n",
       "4      570    Salinas      US     85.01  scattered clouds  36.6777 -121.6555   \n",
       "\n",
       "                                          Hotel Name  \n",
       "0                     Laurel Inn & Conference Center  \n",
       "1                Best Western Astoria Bayfront Hotel  \n",
       "2                                   Gold Creek Cabin  \n",
       "3  InTown Suites Extended Stay Denver CO - Englewood  \n",
       "4                     Laurel Inn & Conference Center  "
      ]
     },
     "execution_count": 13,
     "metadata": {},
     "output_type": "execute_result"
    }
   ],
   "source": [
    "# 8. To create a marker layer map between the four cities.\n",
    "#  Combine the four city DataFrames into one DataFrame using the concat() function.\n",
    "itinerary_df = pd.concat([vacation_start_df,  vacation_stop3_df, vacation_stop1_df, vacation_stop2_df,vacation_end_df ],ignore_index=True)\n",
    "itinerary_df"
   ]
  },
  {
   "cell_type": "code",
   "execution_count": 14,
   "metadata": {},
   "outputs": [],
   "source": [
    "# 9 Using the template add city name, the country code, the weather description and maximum temperature for the city. \n",
    "info_box_template = \"\"\"\n",
    "<dl>\n",
    "<dt>Hotel Name</dt><dd>{Hotel Name}</dd>\n",
    "<dt>City</dt><dd>{City}</dd>\n",
    "<dt>Country</dt><dd>{Country}</dd>\n",
    "<dt>Max Temp</dt><dd>{Max Temp} °F</dd>\n",
    "<dt>Outlook</dt><dd>{Description}</dd>\n",
    "</dl>\n",
    "\"\"\"\n",
    "\n",
    "# 10a Get the data from each row and add it to the formatting template and store the data in a list.\n",
    "hotel_info = [info_box_template.format(**row) for index, row in itinerary_df.iterrows()]\n",
    "\n",
    "# 10b. Get the latitude and longitude from each row and store in a new DataFrame.\n",
    "locations = itinerary_df[[\"Lat\", \"Lng\"]]"
   ]
  },
  {
   "cell_type": "code",
   "execution_count": 21,
   "metadata": {},
   "outputs": [
    {
     "data": {
      "application/vnd.jupyter.widget-view+json": {
       "model_id": "f8495de661184a119eade05c972e7212",
       "version_major": 2,
       "version_minor": 0
      },
      "text/plain": [
       "Figure(layout=FigureLayout(height='420px'))"
      ]
     },
     "metadata": {},
     "output_type": "display_data"
    }
   ],
   "source": [
    "\n",
    "max_temp = clean_hotel_df[\"Max Temp\"]\n",
    "fig = gmaps.figure(center=(36.0, -104.9878), zoom_level=4)\n",
    "#heat_layer = gmaps.heatmap_layer(locations, weights=max_temp,dissipating=False,\n",
    "#             max_intensity=300, point_radius=4)\n",
    "marker_layer = gmaps.marker_layer(locations, info_box_content=hotel_info)\n",
    "#fig.add_layer(heat_layer)\n",
    "fig.add_layer(marker_layer)\n",
    "\n",
    "# 4b. Display the figure\n",
    "\n",
    "fig"
   ]
  },
  {
   "cell_type": "code",
   "execution_count": 15,
   "metadata": {},
   "outputs": [
    {
     "data": {
      "application/vnd.jupyter.widget-view+json": {
       "model_id": "5e868e648f5a4f009077a507c7b2216f",
       "version_major": 2,
       "version_minor": 0
      },
      "text/plain": [
       "Figure(layout=FigureLayout(height='420px'))"
      ]
     },
     "metadata": {},
     "output_type": "display_data"
    }
   ],
   "source": [
    "# 11a. Add a marker layer for each city to the map.\n",
    "\n",
    "\n",
    "fig = gmaps.figure()\n",
    "start2stop1 = gmaps.directions_layer(start, stop1)\n",
    "stop12stop2 = gmaps.directions_layer(stop1, stop2)\n",
    "stop22stop3 = gmaps.directions_layer(stop2, stop3)\n",
    "stop32end = gmaps.directions_layer(stop3, end)\n",
    "marker_layer = gmaps.marker_layer(locations, info_box_content=hotel_info)\n",
    "\n",
    "\n",
    "fig.add_layer(start2stop1)\n",
    "fig.add_layer(stop12stop2)\n",
    "fig.add_layer(stop22stop3)\n",
    "fig.add_layer(stop32end)\n",
    "\n",
    "fig.add_layer(marker_layer)\n",
    "\n",
    "\n",
    "# 11b. Display the figure\n",
    "\n",
    "fig\n"
   ]
  },
  {
   "cell_type": "code",
   "execution_count": null,
   "metadata": {},
   "outputs": [],
   "source": []
  }
 ],
 "metadata": {
  "kernelspec": {
   "display_name": "Python 3.9.7 ('base')",
   "language": "python",
   "name": "python3"
  },
  "language_info": {
   "codemirror_mode": {
    "name": "ipython",
    "version": 3
   },
   "file_extension": ".py",
   "mimetype": "text/x-python",
   "name": "python",
   "nbconvert_exporter": "python",
   "pygments_lexer": "ipython3",
   "version": "3.9.7"
  },
  "latex_envs": {
   "LaTeX_envs_menu_present": true,
   "autoclose": false,
   "autocomplete": true,
   "bibliofile": "biblio.bib",
   "cite_by": "apalike",
   "current_citInitial": 1,
   "eqLabelWithNumbers": true,
   "eqNumInitial": 1,
   "hotkeys": {
    "equation": "Ctrl-E",
    "itemize": "Ctrl-I"
   },
   "labels_anchors": false,
   "latex_user_defs": false,
   "report_style_numbering": false,
   "user_envs_cfg": false
  },
  "vscode": {
   "interpreter": {
    "hash": "e1355be9c08ae7218fdc6ae6030756d0d83dcdb142ed24e6c6ba326440674237"
   }
  }
 },
 "nbformat": 4,
 "nbformat_minor": 2
}
